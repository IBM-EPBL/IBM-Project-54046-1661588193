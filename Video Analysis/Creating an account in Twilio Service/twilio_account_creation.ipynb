{
  "nbformat": 4,
  "nbformat_minor": 0,
  "metadata": {
    "colab": {
      "provenance": [],
      "collapsed_sections": []
    },
    "kernelspec": {
      "name": "python3",
      "display_name": "Python 3"
    },
    "language_info": {
      "name": "python"
    }
  },
  "cells": [
    {
      "cell_type": "code",
      "execution_count": null,
      "metadata": {
        "id": "YZpMBy7WTujK"
      },
      "outputs": [],
      "source": [
        "account_sid = 'AC805dad0282a5eaebfa3149365f1c605d'\n",
        "auth_token = 'a27b535245ca70f9c7b4875865a620e1'\n",
        "client = Client(account_sid, auth_token)\n",
        "\n",
        "message = client.messages \\\n",
        "    .create(\n",
        "         body='Forest fire is detected , stay alert',\n",
        "         from_='+12232174143',\n",
        "         to='+916300780739'\n",
        "     )\n",
        "\n",
        "print(message.sid)"
      ]
    }
  ]
}